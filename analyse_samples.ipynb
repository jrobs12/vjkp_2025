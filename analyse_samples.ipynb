{
 "cells": [
  {
   "cell_type": "markdown",
   "id": "f5df2f6f-0162-4cf2-86ee-4fa27d884fa6",
   "metadata": {},
   "source": [
    "# Climate Detectives: Analysing Samples"
   ]
  },
  {
   "cell_type": "markdown",
   "id": "4db6cad8-8fd1-42ed-9256-dd2b580e8c27",
   "metadata": {},
   "source": [
    "### Introduction\n",
    "Today were going to be analysing the samples that we looked at yesterday. The Picarro machine is super advanced, but it does have some systemic errors that we have to correct ourselves. We first correct for the memory effect, which is when the machine remembers information from the previous sample which causes some bias when we first start analysing a new sample. We correct for memory by taking multiple measurements of the same sample and finding the difference between each measurement and the very last measurement that we make of that sample. \n",
    "\n",
    "The next type of bias that we have to correct for is the drift effect. Drift occurs as the machine is working for long periods of time. Gradually it will start saying that samples have a higher or lower value that it previously did. We correct by using a drift standard - in this case Vancouver - to figure out how much the instrument has drifted over time. Since we know that the isotopic ratio in our Vancouver didn't change, if the next Vancouver in the sequence has a higher isotopic ratio we can calculate the amount of dirft that occured between those two samples. \n",
    "\n",
    "The memory and drift effect exist for each isotpe that we analyse, therefore we find a memory function and drift function for each type."
   ]
  },
  {
   "cell_type": "code",
   "execution_count": 2,
   "id": "79ae211f-13f8-4fb1-81ef-12bfe7430f43",
   "metadata": {},
   "outputs": [],
   "source": [
    "# Import libraries\n",
    "import numpy as np #array manipulation and math functions\n",
    "import pandas as pd #dataframe manipulation\n",
    "import scipy.stats as stats #import statistical functions for drift correction\n",
    "\n",
    "import matplotlib.pyplot as plt #basic plotting functions for python\n",
    "import seaborn as sns #fanicer plotting functions and colormaps"
   ]
  },
  {
   "cell_type": "markdown",
   "id": "35e7f9b0-687c-4fc7-9e74-dc7268b41c72",
   "metadata": {},
   "source": [
    "### 1. Look at the Raw Data\n",
    "The Picarro machine gives us a lot of data, to simplify the process for you, we're going to select the columns (or types of data) that we'll need for the correction. \n",
    "\n",
    "##### Columns to Keep\n",
    "> - **Line**: Tracker over the entire sequence, we treat it kind of like a time variable\n",
    "> - **Analysis**: A specific code for each vial in the sequence\n",
    "> - **Inj Nr**: The nth injection of that sample (1-12), resets to 1 for each Analysis\n",
    "> - **d(17_16)Mean**: The O17/O16 ratio for the sample\n",
    "> - **d(18_16)Mean**: the O18/16 ratio for the sample\n",
    "> - **d(D_H)Mean**: the H2/H1 ratio for the sample\n",
    "> - **Sample**: The position in the sample tray"
   ]
  },
  {
   "cell_type": "code",
   "execution_count": 8,
   "id": "bfae822f-b319-4f7e-bd25-f7ec8503a815",
   "metadata": {},
   "outputs": [
    {
     "ename": "FileNotFoundError",
     "evalue": "[Errno 2] No such file or directory: 'PUT FILE NAME HERE .csv'",
     "output_type": "error",
     "traceback": [
      "\u001b[31m---------------------------------------------------------------------------\u001b[39m",
      "\u001b[31mFileNotFoundError\u001b[39m                         Traceback (most recent call last)",
      "\u001b[36mCell\u001b[39m\u001b[36m \u001b[39m\u001b[32mIn[8]\u001b[39m\u001b[32m, line 2\u001b[39m\n\u001b[32m      1\u001b[39m \u001b[38;5;66;03m#start by reading in our raw data file\u001b[39;00m\n\u001b[32m----> \u001b[39m\u001b[32m2\u001b[39m d = pd.read_csv(\u001b[33m\"\u001b[39m\u001b[33mPUT FILE NAME HERE .csv\u001b[39m\u001b[33m\"\u001b[39m)\n\u001b[32m      4\u001b[39m columns_to_keep = [\u001b[33m\"\u001b[39m\u001b[33mLine\u001b[39m\u001b[33m\"\u001b[39m, \u001b[33m\"\u001b[39m\u001b[33mAnalysis\u001b[39m\u001b[33m\"\u001b[39m, \u001b[33m\"\u001b[39m\u001b[33mInj Nr\u001b[39m\u001b[33m\"\u001b[39m, \u001b[33m\"\u001b[39m\u001b[33md(17_16)Mean\u001b[39m\u001b[33m\"\u001b[39m, \u001b[33m\"\u001b[39m\u001b[33md(18_16)Mean\u001b[39m\u001b[33m\"\u001b[39m, \u001b[33m\"\u001b[39m\u001b[33md(D_H)Mean\u001b[39m\u001b[33m\"\u001b[39m, \u001b[33m\"\u001b[39m\u001b[33mSample\u001b[39m\u001b[33m\"\u001b[39m]\n\u001b[32m      6\u001b[39m d = d[columns_to_keep] \u001b[38;5;66;03m#select only the columns that we said above\u001b[39;00m\n",
      "\u001b[36mFile \u001b[39m\u001b[32m~\\anaconda3\\envs\\vjkp_2025\\Lib\\site-packages\\pandas\\io\\parsers\\readers.py:1026\u001b[39m, in \u001b[36mread_csv\u001b[39m\u001b[34m(filepath_or_buffer, sep, delimiter, header, names, index_col, usecols, dtype, engine, converters, true_values, false_values, skipinitialspace, skiprows, skipfooter, nrows, na_values, keep_default_na, na_filter, verbose, skip_blank_lines, parse_dates, infer_datetime_format, keep_date_col, date_parser, date_format, dayfirst, cache_dates, iterator, chunksize, compression, thousands, decimal, lineterminator, quotechar, quoting, doublequote, escapechar, comment, encoding, encoding_errors, dialect, on_bad_lines, delim_whitespace, low_memory, memory_map, float_precision, storage_options, dtype_backend)\u001b[39m\n\u001b[32m   1013\u001b[39m kwds_defaults = _refine_defaults_read(\n\u001b[32m   1014\u001b[39m     dialect,\n\u001b[32m   1015\u001b[39m     delimiter,\n\u001b[32m   (...)\u001b[39m\u001b[32m   1022\u001b[39m     dtype_backend=dtype_backend,\n\u001b[32m   1023\u001b[39m )\n\u001b[32m   1024\u001b[39m kwds.update(kwds_defaults)\n\u001b[32m-> \u001b[39m\u001b[32m1026\u001b[39m \u001b[38;5;28;01mreturn\u001b[39;00m _read(filepath_or_buffer, kwds)\n",
      "\u001b[36mFile \u001b[39m\u001b[32m~\\anaconda3\\envs\\vjkp_2025\\Lib\\site-packages\\pandas\\io\\parsers\\readers.py:620\u001b[39m, in \u001b[36m_read\u001b[39m\u001b[34m(filepath_or_buffer, kwds)\u001b[39m\n\u001b[32m    617\u001b[39m _validate_names(kwds.get(\u001b[33m\"\u001b[39m\u001b[33mnames\u001b[39m\u001b[33m\"\u001b[39m, \u001b[38;5;28;01mNone\u001b[39;00m))\n\u001b[32m    619\u001b[39m \u001b[38;5;66;03m# Create the parser.\u001b[39;00m\n\u001b[32m--> \u001b[39m\u001b[32m620\u001b[39m parser = TextFileReader(filepath_or_buffer, **kwds)\n\u001b[32m    622\u001b[39m \u001b[38;5;28;01mif\u001b[39;00m chunksize \u001b[38;5;129;01mor\u001b[39;00m iterator:\n\u001b[32m    623\u001b[39m     \u001b[38;5;28;01mreturn\u001b[39;00m parser\n",
      "\u001b[36mFile \u001b[39m\u001b[32m~\\anaconda3\\envs\\vjkp_2025\\Lib\\site-packages\\pandas\\io\\parsers\\readers.py:1620\u001b[39m, in \u001b[36mTextFileReader.__init__\u001b[39m\u001b[34m(self, f, engine, **kwds)\u001b[39m\n\u001b[32m   1617\u001b[39m     \u001b[38;5;28mself\u001b[39m.options[\u001b[33m\"\u001b[39m\u001b[33mhas_index_names\u001b[39m\u001b[33m\"\u001b[39m] = kwds[\u001b[33m\"\u001b[39m\u001b[33mhas_index_names\u001b[39m\u001b[33m\"\u001b[39m]\n\u001b[32m   1619\u001b[39m \u001b[38;5;28mself\u001b[39m.handles: IOHandles | \u001b[38;5;28;01mNone\u001b[39;00m = \u001b[38;5;28;01mNone\u001b[39;00m\n\u001b[32m-> \u001b[39m\u001b[32m1620\u001b[39m \u001b[38;5;28mself\u001b[39m._engine = \u001b[38;5;28mself\u001b[39m._make_engine(f, \u001b[38;5;28mself\u001b[39m.engine)\n",
      "\u001b[36mFile \u001b[39m\u001b[32m~\\anaconda3\\envs\\vjkp_2025\\Lib\\site-packages\\pandas\\io\\parsers\\readers.py:1880\u001b[39m, in \u001b[36mTextFileReader._make_engine\u001b[39m\u001b[34m(self, f, engine)\u001b[39m\n\u001b[32m   1878\u001b[39m     \u001b[38;5;28;01mif\u001b[39;00m \u001b[33m\"\u001b[39m\u001b[33mb\u001b[39m\u001b[33m\"\u001b[39m \u001b[38;5;129;01mnot\u001b[39;00m \u001b[38;5;129;01min\u001b[39;00m mode:\n\u001b[32m   1879\u001b[39m         mode += \u001b[33m\"\u001b[39m\u001b[33mb\u001b[39m\u001b[33m\"\u001b[39m\n\u001b[32m-> \u001b[39m\u001b[32m1880\u001b[39m \u001b[38;5;28mself\u001b[39m.handles = get_handle(\n\u001b[32m   1881\u001b[39m     f,\n\u001b[32m   1882\u001b[39m     mode,\n\u001b[32m   1883\u001b[39m     encoding=\u001b[38;5;28mself\u001b[39m.options.get(\u001b[33m\"\u001b[39m\u001b[33mencoding\u001b[39m\u001b[33m\"\u001b[39m, \u001b[38;5;28;01mNone\u001b[39;00m),\n\u001b[32m   1884\u001b[39m     compression=\u001b[38;5;28mself\u001b[39m.options.get(\u001b[33m\"\u001b[39m\u001b[33mcompression\u001b[39m\u001b[33m\"\u001b[39m, \u001b[38;5;28;01mNone\u001b[39;00m),\n\u001b[32m   1885\u001b[39m     memory_map=\u001b[38;5;28mself\u001b[39m.options.get(\u001b[33m\"\u001b[39m\u001b[33mmemory_map\u001b[39m\u001b[33m\"\u001b[39m, \u001b[38;5;28;01mFalse\u001b[39;00m),\n\u001b[32m   1886\u001b[39m     is_text=is_text,\n\u001b[32m   1887\u001b[39m     errors=\u001b[38;5;28mself\u001b[39m.options.get(\u001b[33m\"\u001b[39m\u001b[33mencoding_errors\u001b[39m\u001b[33m\"\u001b[39m, \u001b[33m\"\u001b[39m\u001b[33mstrict\u001b[39m\u001b[33m\"\u001b[39m),\n\u001b[32m   1888\u001b[39m     storage_options=\u001b[38;5;28mself\u001b[39m.options.get(\u001b[33m\"\u001b[39m\u001b[33mstorage_options\u001b[39m\u001b[33m\"\u001b[39m, \u001b[38;5;28;01mNone\u001b[39;00m),\n\u001b[32m   1889\u001b[39m )\n\u001b[32m   1890\u001b[39m \u001b[38;5;28;01massert\u001b[39;00m \u001b[38;5;28mself\u001b[39m.handles \u001b[38;5;129;01mis\u001b[39;00m \u001b[38;5;129;01mnot\u001b[39;00m \u001b[38;5;28;01mNone\u001b[39;00m\n\u001b[32m   1891\u001b[39m f = \u001b[38;5;28mself\u001b[39m.handles.handle\n",
      "\u001b[36mFile \u001b[39m\u001b[32m~\\anaconda3\\envs\\vjkp_2025\\Lib\\site-packages\\pandas\\io\\common.py:873\u001b[39m, in \u001b[36mget_handle\u001b[39m\u001b[34m(path_or_buf, mode, encoding, compression, memory_map, is_text, errors, storage_options)\u001b[39m\n\u001b[32m    868\u001b[39m \u001b[38;5;28;01melif\u001b[39;00m \u001b[38;5;28misinstance\u001b[39m(handle, \u001b[38;5;28mstr\u001b[39m):\n\u001b[32m    869\u001b[39m     \u001b[38;5;66;03m# Check whether the filename is to be opened in binary mode.\u001b[39;00m\n\u001b[32m    870\u001b[39m     \u001b[38;5;66;03m# Binary mode does not support 'encoding' and 'newline'.\u001b[39;00m\n\u001b[32m    871\u001b[39m     \u001b[38;5;28;01mif\u001b[39;00m ioargs.encoding \u001b[38;5;129;01mand\u001b[39;00m \u001b[33m\"\u001b[39m\u001b[33mb\u001b[39m\u001b[33m\"\u001b[39m \u001b[38;5;129;01mnot\u001b[39;00m \u001b[38;5;129;01min\u001b[39;00m ioargs.mode:\n\u001b[32m    872\u001b[39m         \u001b[38;5;66;03m# Encoding\u001b[39;00m\n\u001b[32m--> \u001b[39m\u001b[32m873\u001b[39m         handle = \u001b[38;5;28mopen\u001b[39m(\n\u001b[32m    874\u001b[39m             handle,\n\u001b[32m    875\u001b[39m             ioargs.mode,\n\u001b[32m    876\u001b[39m             encoding=ioargs.encoding,\n\u001b[32m    877\u001b[39m             errors=errors,\n\u001b[32m    878\u001b[39m             newline=\u001b[33m\"\u001b[39m\u001b[33m\"\u001b[39m,\n\u001b[32m    879\u001b[39m         )\n\u001b[32m    880\u001b[39m     \u001b[38;5;28;01melse\u001b[39;00m:\n\u001b[32m    881\u001b[39m         \u001b[38;5;66;03m# Binary mode\u001b[39;00m\n\u001b[32m    882\u001b[39m         handle = \u001b[38;5;28mopen\u001b[39m(handle, ioargs.mode)\n",
      "\u001b[31mFileNotFoundError\u001b[39m: [Errno 2] No such file or directory: 'PUT FILE NAME HERE .csv'"
     ]
    }
   ],
   "source": [
    "#start by reading in our raw data file\n",
    "d = pd.read_csv(\"PUT FILE NAME HERE .csv\")\n",
    "\n",
    "columns_to_keep = [\"Line\", \"Analysis\", \"Inj Nr\", \"d(17_16)Mean\", \"d(18_16)Mean\", \"d(D_H)Mean\", \"Sample\"]\n",
    "\n",
    "d = d[columns_to_keep] #select only the columns that we said above\n",
    "\n",
    "#we can add labels to each sample to know which sample is which\n",
    "\n",
    "#start by making a dictionary that maps the sample id to the position in the tray\n",
    "label_positions = {83: \"VAN\", 84 :\"CHIL\", 85: \"OSOY\", 86: \"CAST\", 93: \"CRES\",\n",
    "                    95: \"CRAN\", 96: \"CROW\", 103: \"LETH\", 104: \"MED\", 106: \"CAL\"}\n",
    "d.loc[:,\"Label\"] = d[\"sample\"] #make a copy of the sample column to replace with the labels above\n",
    "d[\"Label\"].replace(label_positions, inplace = True)"
   ]
  },
  {
   "cell_type": "markdown",
   "id": "11d556a1-b37b-44fb-a413-08517767bcce",
   "metadata": {},
   "source": [
    "Now let's make a plot of the raw data. The scaffolding of code to plot one kind of data has been written but it's missing a couple of things. Use the functions below to write code that labels the x and y axis and to gives the plot an informative title, feel free to change the color and the marker of the scatterplot. Then copy and paste the code below the line indicated to plot the other 2 types of data.\n",
    "\n",
    "`plt.xlabel(\"\")`\n",
    "`plt.ylabel(\"\")`\n",
    "`plt.title(\"\")`"
   ]
  },
  {
   "cell_type": "code",
   "execution_count": null,
   "id": "8b700983-664c-4ac6-9ab8-a41402b84ac6",
   "metadata": {},
   "outputs": [],
   "source": [
    "#let's make 3 plots of the raw data\n",
    "\n",
    "d_sam = d #d[d[\"Label\"] == \"CRES\"] we can change this if we want to look at a specific sample\n",
    "\n",
    "f = plt.figure(1)\n",
    "plt.subplots(1,3,1)\n",
    "######################### copy and paste from here\n",
    "plt.scatter(d_sam[\"Line\"], d_sam[\"d(17_16)Mean\"], marker = \".\", color = \"k\")\n",
    "plt.grid()\n",
    "\n",
    "#code for the labels goes under here\n",
    "\n",
    "######################### to here\n",
    "#code of d(18_16)Mean plot\n",
    "plt.subplots(1,3,2)\n",
    "\n",
    "#code for d(D_H)Mean plot\n",
    "plt.subplots(1,3,3)\n"
   ]
  },
  {
   "cell_type": "markdown",
   "id": "1f6f12f2-e343-44ac-81ae-098bfe3cc4a5",
   "metadata": {},
   "source": [
    "Can you see any of the memory / drift effect in these plots?"
   ]
  },
  {
   "cell_type": "markdown",
   "id": "a20a3ce4-fd81-4727-b696-506a77fae7f6",
   "metadata": {},
   "source": [
    "### 2. Memory Correction\n",
    "\n",
    "Now let's correct for the memory effect. The code starts by calculating the fraction of the previous sample that remains in the current sample for each injection, we want to see that as the injection number increases (i.e as we make more measurements) we see that the fraction decreases. To do this we add 3 columns into the data with the `_f` ending. In general we don't want to overwrite any of the data that we gathered, instead we add and track the progress as we correct.\n",
    "\n",
    "The fraction is calculated using the following equation where the numerator is the difference between the previous injection and the current injection and the denomenator is the difference between the previous injection and the last injection of the previous sample.\n",
    "\n",
    "$$ d_{f,i}= \\frac{d_{i-1} - d_i}{d_{i-1} - d_{prev}} $$\n",
    "\n",
    "We add 3 columns into our dataframe with the ending `_memcor` which are the memory corrected data. The correction is applied using the equation below. We subtract the value of the last injection of the previous sample multiplied by the fraction of memory that we found for the current sample and injection, then we divide by 1 - the memory fraction. If there is no memory effect ($d_f = 0$) then no correction is applied.\n",
    "\n",
    "$$ d_{memcor, i} = \\frac{d_i - (d_f * d_{prev})}{1-d_f} $$\n",
    "\n",
    "All of the code to do this correction is below, all you need to do is run the cell. The code is annotated so that you know what is happening but if you have questions don't hesitate to ask.\n",
    "\n",
    "##### A. Run the code below to correct for the memory effect"
   ]
  },
  {
   "cell_type": "code",
   "execution_count": null,
   "id": "43623b6c-58a9-437f-ab24-0afebdc8b503",
   "metadata": {},
   "outputs": [],
   "source": [
    "#start by reading in the memory coefficients\n",
    "fmem = pd.read_csv(\"\")\n",
    "\n",
    "cl = [\"d(17_16)Mean\", \"d(18_16)Mean\", \"d(D_H)Mean\"]\n",
    "\n",
    "for c in cl: #loops let us iterate over objects in a list/array so that we can speed up the code writing process. Instead of writing the same \n",
    "    #code three times for each set of data, we're going to loop over a list of the names of the columns so that we can select each column\n",
    "    \n",
    "    d[c+'_memcor']=d[c] # make a new column for the memory corrected data that we can work on\n",
    "    d[c+'_f']=0.0 #make a column for the memory fraction\n",
    "\n",
    "        #######\n",
    "        for inj in d['Inj_Nr']: #now we're also looping over the injection number, so for each c in cl, we're also looking at each inj in inj_Nr\n",
    "            #this lets us do the calculation for each measurement that the machine made\n",
    "            \n",
    "            d.loc[d['Inj_Nr']==inj,c+'_f'] = fmemory.loc[inj,c+'_fmem'] #we're putting the memory fraction associated with that injection\n",
    "            #number into the right spot in the memory fraction column\n",
    "        #######    \n",
    "\n",
    "        d[c+'_memcor'] = (d[c]-d[c+'_f']*d[c+'_previous'])/(1-d[c+'_f'])\n",
    "        #correct for the memory effect using the equation above\n",
    "    "
   ]
  },
  {
   "cell_type": "markdown",
   "id": "39b5a227-c60e-4d49-8575-dcbe7db4bb34",
   "metadata": {},
   "source": [
    "Now lets make a plot of our newly corrected data!\n",
    "\n",
    "##### B. Copy and paste the code from the raw data plot into the cell below. Can you write code to add the memory corrected data to the plot in a different colour?"
   ]
  },
  {
   "cell_type": "code",
   "execution_count": 3,
   "id": "e13bb82d-70a2-4ff0-a8c3-32f03aba3fa0",
   "metadata": {},
   "outputs": [
    {
     "ename": "NameError",
     "evalue": "name 'd' is not defined",
     "output_type": "error",
     "traceback": [
      "\u001b[31m---------------------------------------------------------------------------\u001b[39m",
      "\u001b[31mNameError\u001b[39m                                 Traceback (most recent call last)",
      "\u001b[36mCell\u001b[39m\u001b[36m \u001b[39m\u001b[32mIn[3]\u001b[39m\u001b[32m, line 3\u001b[39m\n\u001b[32m      1\u001b[39m \u001b[38;5;66;03m## Memory Corrected Data\u001b[39;00m\n\u001b[32m----> \u001b[39m\u001b[32m3\u001b[39m d_sam = d\n",
      "\u001b[31mNameError\u001b[39m: name 'd' is not defined"
     ]
    }
   ],
   "source": [
    "## Memory Corrected Data\n",
    "\n",
    "#select the sample that we want to look at\n",
    "d_sam = d #d[d[\"Label\"] == 'CHIL']\n",
    "\n",
    "plt.figure(2)\n",
    "## add the plotting code below\n",
    "\n"
   ]
  },
  {
   "cell_type": "markdown",
   "id": "44ed2d49-48c5-4b00-863c-4791d3bff711",
   "metadata": {},
   "source": [
    "Can you see anything weird about these plots? In order to ensure that the measurement is the most accurate that it could be, and to hopefully remove any remaining memory effect from the sample, we are only going to be using the 4th injection onward for our final dataset. Our final result is going to be the average of all of the data points for that sample and we can clearly see that the memory correction works best on later injections."
   ]
  },
  {
   "attachments": {
    "fe9b8ab1-7381-49b0-af66-23d3329aea4c.png": {
     "image/png": "[encoded data removed]"
    }
   },
   "cell_type": "markdown",
   "id": "ec9775b2-012a-4ea7-b9a5-6fbee437613c",
   "metadata": {},
   "source": [
    "### 3. Drift Correction\n",
    "\n",
    "Instruments drift for a variety of reasons. Small temperature variations or vibrations from the instrument runninng can cause it to think that the ratio is larger / smaller than it should be. The good news is that we can correct this instrument drift using a **drift standard**. A drift standard is a sample where we know what the correct isotopic ratio and can therefore calculate how different our measurements are from that standard. The sequence is designed so that it starts and ends with a drift standard, and we analyse a drift standard every 4 samples. \n",
    "\n",
    "We do the drift correction on the **anomalies** of the data. An anomaly is the difference between a given measurement and the average of all of the measurements in the set. We calculate the anomaly with respect to the Analysis of the sample. \n",
    "\n",
    "Then we apply what is called a **linear interpolation** between the standard anomalies. This means that we find a straight line between the average of each anomaly and subtract the points on the line from the data. \n",
    "\n",
    "![image.png](attachment:fe9b8ab1-7381-49b0-af66-23d3329aea4c.png)\n",
    "\n",
    "##### A. Add the drift standard label into the correct line of code to select only the samples from Vancouver `\"VAN\"`. Then, run the code below to correct for drift."
   ]
  },
  {
   "cell_type": "code",
   "execution_count": null,
   "id": "b44d55db-9670-4772-9ff6-33ff496128f2",
   "metadata": {},
   "outputs": [],
   "source": [
    "#drift correction code\n",
    "\n",
    "d1=d.loc[d['Inj_Nr']>3].copy() #we're making a new dataframe where we only take injection numbers greater than 3\n",
    "samplelist = samplelist = d['Sample'].unique() #here we're making a list of each of the vials that were analysed in the tray\n",
    "samples_num = {\"VAN\": 1, \"CHIL\": 2, \"OSOY\": 3, \"CAST\": 4, \"CRES\": 5, \"CRAN\": 6, \"CROW\": 7, \"LETH\": 8, \"MED\": 9, \"CAL\": 10, \"VIC\": 11, \"SKE\": 12} \n",
    "#here we're mapping the label of a sample to a number, this allows\n",
    "#for us to keep track of which sample is which once we start working with the means (which can't be averaged since they are strings)\n",
    "\n",
    "d1[\"label_num\"] = d1[\"label\"].replace(samples_num)\n",
    "\n",
    "#calculate the anomalies for each type of data\n",
    "dsam_mean=d1.groupby('Sample')[cl].mean() #for each sample, we're taking the mean for the anonalies\n",
    "for c in cl: #loop over each type of data\n",
    "        d1[c+'_anom']=0.0 #add a column into our dataframe\n",
    "        for s in samplelist: #loop over each sample\n",
    "            d1.loc[d1['Sample']==s,c+'_anom'] = d1.loc[d1['Sample']==s,c]-dsam_mean.loc[s,c] #subtract the mean of that sample group from the sample\n",
    "\n",
    "d_means = d1.groupby(\"Analysis\").mean(numeric_only = True) #find the mean of every column for each Analysis\n",
    "#we use the means for the interpolation but we're going to correct all of the data using the interpolation\n",
    "\n",
    "#select the the drift standard label data for the interpolation\n",
    "d_stnd = d_means.loc[d_means[\"Label\"] == samples_num[\"DRIFT STANDARD LABEL HERE\"]].groupby(\"Analysis\").mean(numeric_only = True)\n",
    "\n",
    "for i,c in enumerate(cl):\n",
    "        #get interpolation function\n",
    "        d1_interpolation = scipy.interpolate.interp1d(d_stnd[\"Line\"], d_stnd[c + \"_memcor_anom\"], \n",
    "                                                      kind = \"linear\", bounds_error = False,\n",
    "                                                   fill_value = (d_stnd[c + \"_memcor_anom\"][0], d_stnd[c+ \"_memcor_anom\"][-1]))\n",
    "    \n",
    "        d1[c + \"_interp\"] = d1_interpolation(d1[\"Line\"]) #apply the interpolation function onto our line column to get the correct # of points \n",
    "        #correct data\n",
    "        d1[c + \"_driftcor\"] = d1[c+\"_memcor\"] - d1[c + \"_interp\"]"
   ]
  },
  {
   "cell_type": "markdown",
   "id": "469c615c-cff2-483e-b4ab-7d947c9d5894",
   "metadata": {},
   "source": [
    "##### B. Make the same plot as above, but show all 3 stages of the data (uncorrected, memory corrected, drift corrected). Make each stage of the processing a different color (you can use the website https://matplotlib.org/stable/gallery/color/named_colors.html) or hexcodes if you want to get creative. Here are some helpful keywords that you can add to the `plt.scatter()` function to make the plot more understandable.\n",
    "\n",
    ">- `alpha`: reduces the opacity of the markers, alpha = 1 is full strength, alpha = 0 is invisble\n",
    ">- `s`: changes the size of the marker, this one takes some fiddling since it changes the area occupied by the maker"
   ]
  },
  {
   "cell_type": "code",
   "execution_count": 4,
   "id": "099b71bb-15f0-4106-9501-6fb90796ea98",
   "metadata": {},
   "outputs": [
    {
     "ename": "NameError",
     "evalue": "name 'd' is not defined",
     "output_type": "error",
     "traceback": [
      "\u001b[31m---------------------------------------------------------------------------\u001b[39m",
      "\u001b[31mNameError\u001b[39m                                 Traceback (most recent call last)",
      "\u001b[36mCell\u001b[39m\u001b[36m \u001b[39m\u001b[32mIn[4]\u001b[39m\u001b[32m, line 2\u001b[39m\n\u001b[32m      1\u001b[39m \u001b[38;5;66;03m##code for the plot here\u001b[39;00m\n\u001b[32m----> \u001b[39m\u001b[32m2\u001b[39m d_sam = d \u001b[38;5;66;03m#d[d[\"Label\"] == 'MED']\u001b[39;00m\n\u001b[32m      4\u001b[39m plt.figure(\u001b[32m3\u001b[39m)\n",
      "\u001b[31mNameError\u001b[39m: name 'd' is not defined"
     ]
    }
   ],
   "source": [
    "##code for the plot here\n",
    "d_sam = d #d[d[\"Label\"] == 'MED']\n",
    "\n",
    "plt.figure(3)"
   ]
  },
  {
   "cell_type": "markdown",
   "id": "1a6ad50a-3848-4cc9-ab81-ca5fa0eaaad7",
   "metadata": {},
   "source": [
    "#### Congratulations! You've just completed the processing stage of our samples. Look over the plots that we made here, what else would you like to see? Use this notebook to play around with the code and the data and make some fun plots :) "
   ]
  },
  {
   "cell_type": "code",
   "execution_count": null,
   "id": "53d7876b-35af-44e1-9b22-cc8fb404e9b6",
   "metadata": {},
   "outputs": [],
   "source": []
  }
 ],
 "metadata": {
  "kernelspec": {
   "display_name": "Python 3 (ipykernel)",
   "language": "python",
   "name": "python3"
  },
  "language_info": {
   "codemirror_mode": {
    "name": "ipython",
    "version": 3
   },
   "file_extension": ".py",
   "mimetype": "text/x-python",
   "name": "python",
   "nbconvert_exporter": "python",
   "pygments_lexer": "ipython3",
   "version": "3.13.5"
  }
 },
 "nbformat": 4,
 "nbformat_minor": 5
}
